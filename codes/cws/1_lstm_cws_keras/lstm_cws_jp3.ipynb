{
 "cells": [
  {
   "cell_type": "markdown",
   "metadata": {},
   "source": [
    "# 1、Bilstm中文分词实验\n",
    "```\n",
    "程序版本：第一版中文分词程序，双向lstm\n",
    "数据集:\n",
    "    训练集：msr_training_p3.txt（已打好标签）\n",
    "    测试集：msr_test_gold_p3.txt（已打好标签）\n",
    "运行环境：\n",
    "    python3+Tensorflow 1.4+Keras 2.1.2\n",
    "主要功能：\n",
    "    LSTM神经网络、F1分数的计算、viterbi译码、early_stopping、打印模型图\n",
    "```"
   ]
  },
  {
   "cell_type": "markdown",
   "metadata": {},
   "source": [
    "## 0、初始化"
   ]
  },
  {
   "cell_type": "markdown",
   "metadata": {
    "heading_collapsed": true
   },
   "source": [
    "#### 0.1 导入模型"
   ]
  },
  {
   "cell_type": "code",
   "execution_count": 1,
   "metadata": {
    "hidden": true
   },
   "outputs": [
    {
     "name": "stderr",
     "output_type": "stream",
     "text": [
      "Using TensorFlow backend.\n"
     ]
    }
   ],
   "source": [
    "# -*- coding:utf-8 -*-\n",
    "# %matplotlib inline\n",
    "import re\n",
    "import copy\n",
    "import pickle\n",
    "import tensorflow as tf\n",
    "import random\n",
    "import numpy as np\n",
    "import pandas as pd\n",
    "from keras.utils import to_categorical\n",
    "from keras.utils import np_utils\n",
    "from keras.models import Model\n",
    "import keras.preprocessing.text as T\n",
    "from keras.preprocessing.text import Tokenizer\n",
    "from keras.preprocessing import sequence\n",
    "from keras.layers import Dense, Embedding, LSTM,TimeDistributed\n",
    "from keras.layers import Input, Bidirectional,Dropout,CuDNNLSTM,CuDNNGRU\n",
    "from keras.optimizers import SGD,RMSprop,Adagrad,Adadelta,Adamax,Adam\n",
    "from util_function import split_data_label,calculate_evaluation,calculate_evaluation_batch,data_label_to_word,cws_pre,cws_pre_batch\n",
    "from keras.callbacks import EarlyStopping\n",
    "from sklearn.model_selection import train_test_split\n",
    "from sklearn.model_selection import cross_val_score\n",
    "from keras.wrappers.scikit_learn import KerasClassifier\n",
    "import matplotlib.pyplot as plt\n",
    "from keras.utils import plot_model\n",
    "\n",
    "# 限制显存占比\n",
    "from keras.backend.tensorflow_backend import set_session\n",
    "config = tf.ConfigProto()\n",
    "config.gpu_options.allow_growth = True\n",
    "#config.gpu_options.per_process_gpu_memory_fraction = 1.0\n",
    "sess = tf.Session(config=config)\n",
    "set_session(sess)"
   ]
  },
  {
   "cell_type": "markdown",
   "metadata": {
    "heading_collapsed": true
   },
   "source": [
    "#### 0.2 参数设置"
   ]
  },
  {
   "cell_type": "code",
   "execution_count": 2,
   "metadata": {
    "hidden": true
   },
   "outputs": [],
   "source": [
    "# 越参数\n",
    "embedding_feature = 128  # 词向量的维度\n",
    "maxlen = 128     # 句子最长的词数\n",
    "epochs = 2     # 训练次数\n",
    "batch_size = 1024 # 批处理数\n",
    "# 模型存储名\n",
    "special = 'model_7'\n",
    "# 其他参数\n",
    "et_min_delta = 0.0001 \n",
    "et_patience = 3\n",
    "TRAIN_PERC = 0.9 # 训练集占所有数据的比重"
   ]
  },
  {
   "cell_type": "markdown",
   "metadata": {
    "heading_collapsed": true
   },
   "source": [
    "## 1、加载数据"
   ]
  },
  {
   "cell_type": "code",
   "execution_count": 3,
   "metadata": {
    "hidden": true
   },
   "outputs": [
    {
     "name": "stdout",
     "output_type": "stream",
     "text": [
      "训练集句子数： 86918\n",
      "测试集句子数： 3985\n"
     ]
    }
   ],
   "source": [
    "s = [] \n",
    "with open('./../data/pre_cws_data/msr_train_p3.txt','r') as inputs:\n",
    "    for line in inputs:\n",
    "        line = line.strip()\n",
    "        s.append(line)\n",
    "t = [] \n",
    "with open('./../data/pre_cws_data/msr_test_gold_p3.txt','r') as inputs:\n",
    "    for line in inputs:\n",
    "        line = line.strip()\n",
    "        t.append(line)\n",
    "        \n",
    "print(\"训练集句子数：\",len(s))\n",
    "print(\"测试集句子数：\",len(t))\n",
    "\n",
    "train_x = [] #生成训练样本\n",
    "train_y = []\n",
    "test_x = [] #生成训练样本\n",
    "test_y = []\n",
    "\n",
    "# 训练集汉字与标签分开\n",
    "train_x,train_y = split_data_label(s)\n",
    "# 测试集汉字与标签分开\n",
    "test_x,test_y = split_data_label(t)"
   ]
  },
  {
   "cell_type": "markdown",
   "metadata": {},
   "source": [
    "## 2、数据清洗"
   ]
  },
  {
   "cell_type": "markdown",
   "metadata": {
    "heading_collapsed": true
   },
   "source": [
    "#### 2.1 超过maxlen长度的句子暂时滤掉"
   ]
  },
  {
   "cell_type": "code",
   "execution_count": 4,
   "metadata": {
    "hidden": true
   },
   "outputs": [
    {
     "name": "stdout",
     "output_type": "stream",
     "text": [
      "过滤后剩余的训练集句子数 =  85620\n",
      "过滤后剩余的测试集句子数 =  3891\n"
     ]
    }
   ],
   "source": [
    "train = pd.DataFrame(index=range(len(train_x)))\n",
    "train['train_x'] = train_x\n",
    "train['train_y'] = train_y\n",
    "train = train[train['train_x'].apply(len) <= maxlen]  # 如果大于maxlen的句子滤掉\n",
    "train.index = range(len(train))\n",
    "print('过滤后剩余的训练集句子数 = ',len(train))  \n",
    "\n",
    "test= pd.DataFrame(index=range(len(test_x)))\n",
    "test['test_x'] = test_x\n",
    "test['test_y'] = test_y\n",
    "test = test[test['test_x'].apply(len) <= maxlen]  # 如果大于maxlen的句子滤掉\n",
    "test.index = range(len(test))\n",
    "print('过滤后剩余的测试集句子数 = ',len(test))\n",
    "\n",
    "train_x = list(train['train_x'])\n",
    "train_y = list(train['train_y'])\n",
    "\n",
    "test_x = list(test['test_x'])\n",
    "test_y = list(test['test_y'])"
   ]
  },
  {
   "cell_type": "markdown",
   "metadata": {
    "heading_collapsed": true
   },
   "source": [
    "#### 2.2 重构标准的测试数据，与预测的做对比"
   ]
  },
  {
   "cell_type": "code",
   "execution_count": 5,
   "metadata": {
    "hidden": true
   },
   "outputs": [],
   "source": [
    "test_reorganization = data_label_to_word(test_x,test_y,0)\n",
    "test_x_origin = copy.deepcopy(test_x)   # 一维数据\n",
    "#for sen in test_x:\n",
    "#    test_x_origin.extend(sen)"
   ]
  },
  {
   "cell_type": "markdown",
   "metadata": {
    "heading_collapsed": true
   },
   "source": [
    "#### 2.3 数据Token化，汉字转为数字序号"
   ]
  },
  {
   "cell_type": "code",
   "execution_count": 6,
   "metadata": {
    "hidden": true
   },
   "outputs": [],
   "source": [
    "for i,line in enumerate(train_x):\n",
    "    str_tmp = ''\n",
    "    for char in line:\n",
    "        str_tmp+=char+' '\n",
    "    train_x[i] = str_tmp\n",
    "    \n",
    "for i,line in enumerate(train_y):\n",
    "    str_tmp = ''\n",
    "    for char in line:\n",
    "        str_tmp+=char+' '\n",
    "    train_y[i] = str_tmp\n",
    "\n",
    "for i,line in enumerate(test_x):\n",
    "    str_tmp = ''\n",
    "    for char in line:\n",
    "        str_tmp+=char+' '\n",
    "    test_x[i] = str_tmp\n",
    "    \n",
    "for i,line in enumerate(test_y):\n",
    "    str_tmp = ''\n",
    "    for char in line:\n",
    "        str_tmp+=char+' '\n",
    "    test_y[i] = str_tmp"
   ]
  },
  {
   "cell_type": "code",
   "execution_count": 7,
   "metadata": {
    "hidden": true
   },
   "outputs": [
    {
     "name": "stdout",
     "output_type": "stream",
     "text": [
      "汉字个数： 5111\n",
      "{'e': 4, 'm': 3, 's': 1, 'b': 2}\n"
     ]
    }
   ],
   "source": [
    "# token 序列化\n",
    "tokenizer_x = Tokenizer(num_words=None)\n",
    "tokenizer_x.fit_on_texts(np.concatenate((train_x,test_x),axis=0))\n",
    "word_index = tokenizer_x.word_index # 词_索引,字典\n",
    "index_word = dict(zip(word_index.values(), word_index.keys())) # 从下标1开始\n",
    "\n",
    "print(\"汉字个数：\",len(word_index))\n",
    "\n",
    "tokenizer_y = Tokenizer(num_words=None)\n",
    "tokenizer_y.fit_on_texts(['s b m e'])\n",
    "label_index = tokenizer_y.word_index\n",
    "\n",
    "train_x = tokenizer_x.texts_to_sequences(train_x)\n",
    "train_y = tokenizer_y.texts_to_sequences(train_y) \n",
    "\n",
    "test_x = tokenizer_x.texts_to_sequences(test_x)\n",
    "test_y = tokenizer_y.texts_to_sequences(test_y)\n",
    "\n",
    "print(label_index)"
   ]
  },
  {
   "cell_type": "code",
   "execution_count": 8,
   "metadata": {
    "hidden": true
   },
   "outputs": [],
   "source": [
    "# 上面的标签序列从1开始，改为从0开始\n",
    "for i,line in enumerate(train_y):\n",
    "    for j,num in enumerate(line):\n",
    "        train_y[i][j] = num-1\n",
    "for i,line in enumerate(test_y):\n",
    "    for j,num in enumerate(line):\n",
    "        test_y[i][j] = num-1"
   ]
  },
  {
   "cell_type": "code",
   "execution_count": 9,
   "metadata": {
    "hidden": true
   },
   "outputs": [],
   "source": [
    "# 记录测试集每个句子的长度\n",
    "len_test = []\n",
    "for i in test_y:\n",
    "    len_test.append(len(i))"
   ]
  },
  {
   "cell_type": "markdown",
   "metadata": {
    "heading_collapsed": true
   },
   "source": [
    "#### 2.4 为不够长的句子填充特征值，使得句子长度一致"
   ]
  },
  {
   "cell_type": "code",
   "execution_count": 10,
   "metadata": {
    "hidden": true
   },
   "outputs": [],
   "source": [
    "# 训练集填充，一个句子的字数小于maxlen，后面填充0\n",
    "train_x = sequence.pad_sequences(train_x, maxlen=maxlen,padding='post')\n",
    "train_y = sequence.pad_sequences(train_y, maxlen=maxlen,padding='post',value=4.)\n",
    "train_y = to_categorical(train_y, num_classes=5)\n",
    "train_y = train_y.reshape(-1,maxlen,5)\n",
    "\n",
    "# 测试集要填充，否则没法用to_categoriecal函数，如果怀疑这样的准确度，可以后面再验证。\n",
    "test_x = sequence.pad_sequences(test_x, maxlen=maxlen,padding='post')\n",
    "test_y = sequence.pad_sequences(test_y, maxlen=maxlen,padding='post',value=4.)\n",
    "test_y = to_categorical(test_y, num_classes=5)\n",
    "test_y = test_y.reshape(-1,maxlen,5)"
   ]
  },
  {
   "cell_type": "markdown",
   "metadata": {
    "heading_collapsed": true
   },
   "source": [
    "#### 2.5 按比例分配训练集与验证集，没有交叉验证时"
   ]
  },
  {
   "cell_type": "code",
   "execution_count": 11,
   "metadata": {
    "hidden": true
   },
   "outputs": [
    {
     "name": "stdout",
     "output_type": "stream",
     "text": [
      "77058\n",
      "77058\n",
      "8562\n",
      "8562\n"
     ]
    }
   ],
   "source": [
    "# split into 67% for train and 33% for test\n",
    "train_x, develop_x, train_y, develop_y = train_test_split(train_x, train_y, test_size=(1-TRAIN_PERC))\n",
    "print(len(train_x))\n",
    "print(len(train_y))\n",
    "print(len(develop_x))\n",
    "print(len(develop_y))"
   ]
  },
  {
   "cell_type": "markdown",
   "metadata": {
    "heading_collapsed": true
   },
   "source": [
    "## 3、模型设计"
   ]
  },
  {
   "cell_type": "code",
   "execution_count": 12,
   "metadata": {
    "hidden": true
   },
   "outputs": [
    {
     "name": "stdout",
     "output_type": "stream",
     "text": [
      "_________________________________________________________________\n",
      "Layer (type)                 Output Shape              Param #   \n",
      "=================================================================\n",
      "input_1 (InputLayer)         (None, 128)               0         \n",
      "_________________________________________________________________\n",
      "embedding_1 (Embedding)      (None, 128, 128)          654336    \n",
      "_________________________________________________________________\n",
      "bidirectional_1 (Bidirection (None, 128, 64)           98816     \n",
      "_________________________________________________________________\n",
      "dropout_1 (Dropout)          (None, 128, 64)           0         \n",
      "_________________________________________________________________\n",
      "bidirectional_2 (Bidirection (None, 128, 32)           24832     \n",
      "_________________________________________________________________\n",
      "dense_1 (Dense)              (None, 128, 5)            165       \n",
      "=================================================================\n",
      "Total params: 778,149\n",
      "Trainable params: 778,149\n",
      "Non-trainable params: 0\n",
      "_________________________________________________________________\n"
     ]
    }
   ],
   "source": [
    "def create_network():\n",
    "    # 函数式模型\n",
    "    sequence = Input(shape=(maxlen,))\n",
    "    #embedded = Embedding(len(word_index), embedding_feature, input_length=maxlen, mask_zero=False)(sequence)\n",
    "    embedded = Embedding(len(word_index)+1, embedding_feature, input_length=maxlen, mask_zero=True)(sequence)\n",
    "    blstm = Bidirectional(LSTM(64, return_sequences=True), merge_mode='sum')(embedded)\n",
    "    blstm = Dropout(0.5)(blstm)\n",
    "    blstm = Bidirectional(LSTM(32, return_sequences=True), merge_mode='sum')(blstm)\n",
    "    #output = TimeDistributed(Dense(5, activation='softmax'))(blstm)\n",
    "    output = Dense(5, activation='softmax')(blstm)\n",
    "    model = Model(inputs=sequence, outputs=output)\n",
    "    #op = Adam(lr=0.0015, beta_1=0.9, beta_2=0.999, epsilon=1e-08)\n",
    "    #op = RMSprop(lr=0.001, rho=0.9, epsilon=1e-06)\n",
    "    model.compile(loss='categorical_crossentropy', optimizer='Adam', metrics=['accuracy'])\n",
    "    # model.compile(loss='categorical_crossentropy', optimizer='Adam', metrics=['accuracy'])\n",
    "    return model\n",
    "\n",
    "network = create_network()\n",
    "network.summary()"
   ]
  },
  {
   "cell_type": "markdown",
   "metadata": {
    "heading_collapsed": true
   },
   "source": [
    "## 4、训练"
   ]
  },
  {
   "cell_type": "code",
   "execution_count": 13,
   "metadata": {
    "hidden": true
   },
   "outputs": [
    {
     "name": "stdout",
     "output_type": "stream",
     "text": [
      "Train on 77058 samples, validate on 8562 samples\n",
      "Epoch 1/2\n",
      "77058/77058 [==============================] - 207s 3ms/step - loss: 1.2636 - acc: 0.3907 - val_loss: 0.9363 - val_acc: 0.5929\n",
      "Epoch 2/2\n",
      "77058/77058 [==============================] - 209s 3ms/step - loss: 0.7493 - acc: 0.6918 - val_loss: 0.4953 - val_acc: 0.8171\n"
     ]
    }
   ],
   "source": [
    "# 设置early stopping\n",
    "early_stopping = EarlyStopping(monitor='val_loss',\n",
    "                               min_delta=et_min_delta, \n",
    "                               patience=et_patience, \n",
    "                               verbose=1,\n",
    "                               mode='auto')\n",
    "history = network.fit(train_x, train_y, \n",
    "                    validation_data=(develop_x,develop_y),\n",
    "                    batch_size=batch_size, \n",
    "                    epochs=epochs,\n",
    "                    callbacks=[early_stopping],\n",
    "                    verbose=1)"
   ]
  },
  {
   "cell_type": "markdown",
   "metadata": {},
   "source": [
    "## 5、预测"
   ]
  },
  {
   "cell_type": "markdown",
   "metadata": {},
   "source": [
    "#### 5.1 求出测试集的发射概率矩阵"
   ]
  },
  {
   "cell_type": "code",
   "execution_count": 14,
   "metadata": {},
   "outputs": [
    {
     "name": "stdout",
     "output_type": "stream",
     "text": [
      "Test score: 0.566791866562\n",
      "Test accuracy: 0.805062028244\n"
     ]
    }
   ],
   "source": [
    "# 这里的测试集是有填充的，后面可以把填充的去掉试一试\n",
    "score, acc = network.evaluate(test_x, test_y,\n",
    "                            batch_size=batch_size,verbose=2)\n",
    "\n",
    "print('Test score:',score)\n",
    "print('Test accuracy:',acc)"
   ]
  },
  {
   "cell_type": "code",
   "execution_count": 24,
   "metadata": {},
   "outputs": [],
   "source": [
    "b = network.predict(test_x)   # 发射概率\n",
    "b = np.log(b)\n",
    "B = []\n",
    "# 按真实句子的长度截断\n",
    "for i,sens in enumerate(b):\n",
    "    B.append(sens[:len_test[i]])\n",
    "#del b\n",
    "# 这下面的代码是错的，并不能简单地取最大概率的那个标签，因为可能造成不合理的现象。\n",
    "#with sess.as_default():\n",
    "#    acc = tf.argmax(test_y,2)\n",
    "#    pre = tf.argmax(pre,2)\n",
    "#    acc = acc.eval()\n",
    "#    pre = pre.eval()"
   ]
  },
  {
   "cell_type": "markdown",
   "metadata": {
    "heading_collapsed": true
   },
   "source": [
    "#### 5.2 维特比算法解码，得到合理化的标签序列 "
   ]
  },
  {
   "cell_type": "code",
   "execution_count": 16,
   "metadata": {
    "hidden": true
   },
   "outputs": [],
   "source": [
    "pre_y = cws_pre_batch(B) # 通过维特比算法求出合理的标签"
   ]
  },
  {
   "cell_type": "markdown",
   "metadata": {
    "heading_collapsed": true
   },
   "source": [
    "#### 5.3 重构分词后的句子"
   ]
  },
  {
   "cell_type": "code",
   "execution_count": 17,
   "metadata": {
    "hidden": true
   },
   "outputs": [],
   "source": [
    "pre_reorganization = data_label_to_word(test_x_origin,pre_y,0)"
   ]
  },
  {
   "cell_type": "markdown",
   "metadata": {
    "heading_collapsed": true
   },
   "source": [
    "#### 5.4 计算测试集的准确率、召回率、F1值"
   ]
  },
  {
   "cell_type": "code",
   "execution_count": 18,
   "metadata": {
    "hidden": true
   },
   "outputs": [
    {
     "name": "stdout",
     "output_type": "stream",
     "text": [
      "0.7872486953327857 0.789282024529209 0.785225815643254\n"
     ]
    }
   ],
   "source": [
    "# 计算评估指标\n",
    "F,P,R = calculate_evaluation_batch(test_reorganization,pre_reorganization)\n",
    "print(F,P,R)"
   ]
  },
  {
   "cell_type": "markdown",
   "metadata": {
    "heading_collapsed": true
   },
   "source": [
    "#### 5.5 保存实验结果"
   ]
  },
  {
   "cell_type": "code",
   "execution_count": 19,
   "metadata": {
    "hidden": true
   },
   "outputs": [],
   "source": [
    "# x = np.arange(20)\n",
    "# y = x**2\n",
    "# plt.plot(x,y)\n",
    "# plt.savefig('u.png')\n",
    "plot_model(network, to_file=special+'.png')"
   ]
  }
 ],
 "metadata": {
  "kernelspec": {
   "display_name": "Python 3",
   "language": "python",
   "name": "python3"
  },
  "language_info": {
   "codemirror_mode": {
    "name": "ipython",
    "version": 3
   },
   "file_extension": ".py",
   "mimetype": "text/x-python",
   "name": "python",
   "nbconvert_exporter": "python",
   "pygments_lexer": "ipython3",
   "version": "3.5.2"
  }
 },
 "nbformat": 4,
 "nbformat_minor": 2
}
