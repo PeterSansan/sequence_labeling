{
 "cells": [
  {
   "cell_type": "markdown",
   "metadata": {},
   "source": [
    "# 1、Bilstm中文分词实验\n",
    "```\n",
    "程序版本：第一版中文分词程序，双向lstm\n",
    "数据集:\n",
    "    训练集：msr_training_p3.txt（已打好标签）\n",
    "    测试集：msr_test_gold_p3.txt（已打好标签）\n",
    "运行环境：\n",
    "    python3+Tensorflow 1.4+Keras 2.1.2\n",
    "主要功能：\n",
    "    LSTM神经网络、F1分数的计算、viterbi译码、early_stopping、打印模型图\n",
    "```"
   ]
  },
  {
   "cell_type": "markdown",
   "metadata": {},
   "source": [
    "## 0、初始化"
   ]
  },
  {
   "cell_type": "markdown",
   "metadata": {
    "heading_collapsed": true
   },
   "source": [
    "#### 0.1 导入模型"
   ]
  },
  {
   "cell_type": "code",
   "execution_count": 1,
   "metadata": {
    "hidden": true
   },
   "outputs": [
    {
     "name": "stderr",
     "output_type": "stream",
     "text": [
      "Using TensorFlow backend.\n"
     ]
    }
   ],
   "source": [
    "# -*- coding:utf-8 -*-\n",
    "# %matplotlib inline\n",
    "import re\n",
    "import copy\n",
    "import pickle\n",
    "import tensorflow as tf\n",
    "import random\n",
    "import numpy as np\n",
    "import pandas as pd\n",
    "from keras.utils import to_categorical\n",
    "from keras.utils import np_utils\n",
    "from keras.models import Model\n",
    "import keras.preprocessing.text as T\n",
    "from keras.preprocessing.text import Tokenizer\n",
    "from keras.preprocessing import sequence\n",
    "from keras.layers import Dense, Embedding, LSTM,TimeDistributed\n",
    "from keras.layers import Input, Bidirectional,Dropout,CuDNNLSTM,CuDNNGRU\n",
    "from keras.optimizers import SGD,RMSprop,Adagrad,Adadelta,Adamax,Adam\n",
    "from util_function import split_data_label,calculate_evaluation,calculate_evaluation_batch,data_label_to_word,cws_pre,cws_pre_batch\n",
    "from keras.callbacks import EarlyStopping\n",
    "from sklearn.model_selection import train_test_split\n",
    "from sklearn.model_selection import cross_val_score\n",
    "from keras.wrappers.scikit_learn import KerasClassifier\n",
    "import matplotlib.pyplot as plt\n",
    "from keras.utils import plot_model\n",
    "\n",
    "# 限制显存占比\n",
    "from keras.backend.tensorflow_backend import set_session\n",
    "config = tf.ConfigProto()\n",
    "config.gpu_options.allow_growth = True\n",
    "#config.gpu_options.per_process_gpu_memory_fraction = 1.0\n",
    "sess = tf.Session(config=config)\n",
    "set_session(sess)"
   ]
  },
  {
   "cell_type": "markdown",
   "metadata": {},
   "source": [
    "#### 0.2 参数设置"
   ]
  },
  {
   "cell_type": "code",
   "execution_count": 2,
   "metadata": {},
   "outputs": [],
   "source": [
    "# 越参数\n",
    "embedding_feature = 128  # 词向量的维度\n",
    "maxlen = 128     # 句子最长的词数\n",
    "epochs = 300     # 训练次数\n",
    "batch_size = 2048 # 批处理数\n",
    "# 模型存储名\n",
    "special = 'model_7'\n",
    "# 其他参数\n",
    "et_min_delta = 0.00001\n",
    "et_patience = 10\n",
    "TRAIN_PERC = 0.9 # 训练集占所有数据的比重"
   ]
  },
  {
   "cell_type": "markdown",
   "metadata": {
    "heading_collapsed": true
   },
   "source": [
    "## 1、加载数据"
   ]
  },
  {
   "cell_type": "code",
   "execution_count": 3,
   "metadata": {
    "hidden": true
   },
   "outputs": [
    {
     "name": "stdout",
     "output_type": "stream",
     "text": [
      "训练集句子数： 86918\n",
      "测试集句子数： 3985\n"
     ]
    }
   ],
   "source": [
    "s = [] \n",
    "with open('./../data/pre_cws_data/msr_train_p3.txt','r') as inputs:\n",
    "    for line in inputs:\n",
    "        line = line.strip()\n",
    "        s.append(line)\n",
    "t = [] \n",
    "with open('./../data/pre_cws_data/msr_test_gold_p3.txt','r') as inputs:\n",
    "    for line in inputs:\n",
    "        line = line.strip()\n",
    "        t.append(line)\n",
    "        \n",
    "print(\"训练集句子数：\",len(s))\n",
    "print(\"测试集句子数：\",len(t))\n",
    "\n",
    "train_x = [] #生成训练样本\n",
    "train_y = []\n",
    "test_x = [] #生成训练样本\n",
    "test_y = []\n",
    "\n",
    "# 训练集汉字与标签分开\n",
    "train_x,train_y = split_data_label(s)\n",
    "# 测试集汉字与标签分开\n",
    "test_x,test_y = split_data_label(t)"
   ]
  },
  {
   "cell_type": "markdown",
   "metadata": {},
   "source": [
    "## 2、数据清洗"
   ]
  },
  {
   "cell_type": "markdown",
   "metadata": {
    "heading_collapsed": true
   },
   "source": [
    "#### 2.1 超过maxlen长度的句子暂时滤掉"
   ]
  },
  {
   "cell_type": "code",
   "execution_count": 4,
   "metadata": {
    "hidden": true
   },
   "outputs": [
    {
     "name": "stdout",
     "output_type": "stream",
     "text": [
      "过滤后剩余的训练集句子数 =  85620\n",
      "过滤后剩余的测试集句子数 =  3891\n"
     ]
    }
   ],
   "source": [
    "train = pd.DataFrame(index=range(len(train_x)))\n",
    "train['train_x'] = train_x\n",
    "train['train_y'] = train_y\n",
    "train = train[train['train_x'].apply(len) <= maxlen]  # 如果大于maxlen的句子滤掉\n",
    "train.index = range(len(train))\n",
    "print('过滤后剩余的训练集句子数 = ',len(train))  \n",
    "\n",
    "test= pd.DataFrame(index=range(len(test_x)))\n",
    "test['test_x'] = test_x\n",
    "test['test_y'] = test_y\n",
    "test = test[test['test_x'].apply(len) <= maxlen]  # 如果大于maxlen的句子滤掉\n",
    "test.index = range(len(test))\n",
    "print('过滤后剩余的测试集句子数 = ',len(test))\n",
    "\n",
    "train_x = list(train['train_x'])\n",
    "train_y = list(train['train_y'])\n",
    "\n",
    "test_x = list(test['test_x'])\n",
    "test_y = list(test['test_y'])"
   ]
  },
  {
   "cell_type": "markdown",
   "metadata": {
    "heading_collapsed": true
   },
   "source": [
    "#### 2.2 重构标准的测试数据，与预测的做对比"
   ]
  },
  {
   "cell_type": "code",
   "execution_count": 5,
   "metadata": {
    "hidden": true
   },
   "outputs": [],
   "source": [
    "test_reorganization = data_label_to_word(test_x,test_y,0)\n",
    "test_x_origin = copy.deepcopy(test_x)   # 一维数据\n",
    "#for sen in test_x:\n",
    "#    test_x_origin.extend(sen)"
   ]
  },
  {
   "cell_type": "markdown",
   "metadata": {},
   "source": [
    "#### 2.3 数据Token化，汉字转为数字序号"
   ]
  },
  {
   "cell_type": "code",
   "execution_count": 6,
   "metadata": {},
   "outputs": [],
   "source": [
    "for i,line in enumerate(train_x):\n",
    "    str_tmp = ''\n",
    "    for char in line:\n",
    "        str_tmp+=char+' '\n",
    "    train_x[i] = str_tmp\n",
    "    \n",
    "for i,line in enumerate(train_y):\n",
    "    str_tmp = ''\n",
    "    for char in line:\n",
    "        str_tmp+=char+' '\n",
    "    train_y[i] = str_tmp\n",
    "\n",
    "for i,line in enumerate(test_x):\n",
    "    str_tmp = ''\n",
    "    for char in line:\n",
    "        str_tmp+=char+' '\n",
    "    test_x[i] = str_tmp\n",
    "    \n",
    "for i,line in enumerate(test_y):\n",
    "    str_tmp = ''\n",
    "    for char in line:\n",
    "        str_tmp+=char+' '\n",
    "    test_y[i] = str_tmp"
   ]
  },
  {
   "cell_type": "code",
   "execution_count": 7,
   "metadata": {},
   "outputs": [
    {
     "name": "stdout",
     "output_type": "stream",
     "text": [
      "汉字个数： 5111\n",
      "{'b': 2, 'm': 3, 's': 1, 'e': 4}\n"
     ]
    }
   ],
   "source": [
    "# token 序列化\n",
    "tokenizer_x = Tokenizer(num_words=None)\n",
    "tokenizer_x.fit_on_texts(np.concatenate((train_x,test_x),axis=0))\n",
    "word_index = tokenizer_x.word_index # 词_索引,字典\n",
    "index_word = dict(zip(word_index.values(), word_index.keys())) # 从下标1开始\n",
    "\n",
    "print(\"汉字个数：\",len(word_index))\n",
    "\n",
    "tokenizer_y = Tokenizer(num_words=None)\n",
    "tokenizer_y.fit_on_texts(['s b m e'])\n",
    "label_index = tokenizer_y.word_index\n",
    "\n",
    "train_x = tokenizer_x.texts_to_sequences(train_x)\n",
    "train_y = tokenizer_y.texts_to_sequences(train_y) \n",
    "\n",
    "test_x = tokenizer_x.texts_to_sequences(test_x)\n",
    "test_y = tokenizer_y.texts_to_sequences(test_y)\n",
    "\n",
    "print(label_index)"
   ]
  },
  {
   "cell_type": "code",
   "execution_count": 8,
   "metadata": {},
   "outputs": [],
   "source": [
    "# 上面的标签序列从1开始，改为从0开始\n",
    "for i,line in enumerate(train_y):\n",
    "    for j,num in enumerate(line):\n",
    "        train_y[i][j] = num-1\n",
    "for i,line in enumerate(test_y):\n",
    "    for j,num in enumerate(line):\n",
    "        test_y[i][j] = num-1"
   ]
  },
  {
   "cell_type": "code",
   "execution_count": 9,
   "metadata": {},
   "outputs": [],
   "source": [
    "# 记录测试集每个句子的长度\n",
    "len_test = []\n",
    "for i in test_y:\n",
    "    len_test.append(len(i))"
   ]
  },
  {
   "cell_type": "markdown",
   "metadata": {
    "heading_collapsed": true
   },
   "source": [
    "#### 2.4 为不够长的句子填充特征值，使得句子长度一致"
   ]
  },
  {
   "cell_type": "code",
   "execution_count": 10,
   "metadata": {
    "hidden": true
   },
   "outputs": [],
   "source": [
    "# 训练集填充，一个句子的字数小于maxlen，后面填充0\n",
    "train_x = sequence.pad_sequences(train_x, maxlen=maxlen,padding='post')\n",
    "train_y = sequence.pad_sequences(train_y, maxlen=maxlen,padding='post',value=4.)\n",
    "train_y = to_categorical(train_y, num_classes=5)\n",
    "train_y = train_y.reshape(-1,maxlen,5)\n",
    "\n",
    "# 测试集要填充，否则没法用to_categoriecal函数，如果怀疑这样的准确度，可以后面再验证。\n",
    "test_x = sequence.pad_sequences(test_x, maxlen=maxlen,padding='post')\n",
    "test_y = sequence.pad_sequences(test_y, maxlen=maxlen,padding='post',value=4.)\n",
    "test_y = to_categorical(test_y, num_classes=5)\n",
    "test_y = test_y.reshape(-1,maxlen,5)"
   ]
  },
  {
   "cell_type": "markdown",
   "metadata": {
    "heading_collapsed": true
   },
   "source": [
    "#### 2.5 按比例分配训练集与验证集，没有交叉验证时"
   ]
  },
  {
   "cell_type": "code",
   "execution_count": 11,
   "metadata": {
    "hidden": true
   },
   "outputs": [
    {
     "name": "stdout",
     "output_type": "stream",
     "text": [
      "77058\n",
      "77058\n",
      "8562\n",
      "8562\n"
     ]
    }
   ],
   "source": [
    "# split into 67% for train and 33% for test\n",
    "train_x, develop_x, train_y, develop_y = train_test_split(train_x, train_y, test_size=(1-TRAIN_PERC))\n",
    "print(len(train_x))\n",
    "print(len(train_y))\n",
    "print(len(develop_x))\n",
    "print(len(develop_y))"
   ]
  },
  {
   "cell_type": "markdown",
   "metadata": {},
   "source": [
    "## 3、模型设计"
   ]
  },
  {
   "cell_type": "code",
   "execution_count": 12,
   "metadata": {},
   "outputs": [
    {
     "name": "stdout",
     "output_type": "stream",
     "text": [
      "_________________________________________________________________\n",
      "Layer (type)                 Output Shape              Param #   \n",
      "=================================================================\n",
      "input_1 (InputLayer)         (None, 128)               0         \n",
      "_________________________________________________________________\n",
      "embedding_1 (Embedding)      (None, 128, 128)          654208    \n",
      "_________________________________________________________________\n",
      "bidirectional_1 (Bidirection (None, 128, 64)           99328     \n",
      "_________________________________________________________________\n",
      "dropout_1 (Dropout)          (None, 128, 64)           0         \n",
      "_________________________________________________________________\n",
      "bidirectional_2 (Bidirection (None, 128, 32)           25088     \n",
      "_________________________________________________________________\n",
      "dense_1 (Dense)              (None, 128, 5)            165       \n",
      "=================================================================\n",
      "Total params: 778,789\n",
      "Trainable params: 778,789\n",
      "Non-trainable params: 0\n",
      "_________________________________________________________________\n"
     ]
    }
   ],
   "source": [
    "def create_network():\n",
    "    # 函数式模型\n",
    "    sequence = Input(shape=(maxlen,))\n",
    "    embedded = Embedding(len(word_index), embedding_feature, input_length=maxlen, mask_zero=False)(sequence)\n",
    "    #embedded = Embedding(len(word_index)+1, word_size, input_length=maxlen, mask_zero=True)(sequence)\n",
    "    blstm = Bidirectional(CuDNNLSTM(64, return_sequences=True), merge_mode='sum')(embedded)\n",
    "    blstm = Dropout(0.5)(blstm)\n",
    "    blstm = Bidirectional(CuDNNLSTM(32, return_sequences=True), merge_mode='sum')(blstm)\n",
    "    #output = TimeDistributed(Dense(5, activation='softmax'))(blstm)\n",
    "    output = Dense(5, activation='softmax')(blstm)\n",
    "    model = Model(inputs=sequence, outputs=output)\n",
    "    #op = Adam(lr=0.0015, beta_1=0.9, beta_2=0.999, epsilon=1e-08)\n",
    "    #op = RMSprop(lr=0.001, rho=0.9, epsilon=1e-06)\n",
    "    model.compile(loss='categorical_crossentropy', optimizer='Adam', metrics=['accuracy'])\n",
    "    # model.compile(loss='categorical_crossentropy', optimizer='Adam', metrics=['accuracy'])\n",
    "    return model\n",
    "\n",
    "network = create_network()\n",
    "network.summary()"
   ]
  },
  {
   "cell_type": "markdown",
   "metadata": {},
   "source": [
    "## 四、训练"
   ]
  },
  {
   "cell_type": "code",
   "execution_count": 13,
   "metadata": {},
   "outputs": [
    {
     "name": "stdout",
     "output_type": "stream",
     "text": [
      "Train on 77058 samples, validate on 8562 samples\n",
      "Epoch 1/300\n",
      " - 103s - loss: 0.7283 - acc: 0.6983 - val_loss: 0.4759 - val_acc: 0.7584\n",
      "Epoch 2/300\n",
      " - 13s - loss: 0.4700 - acc: 0.7614 - val_loss: 0.4494 - val_acc: 0.7706\n",
      "Epoch 3/300\n",
      " - 13s - loss: 0.4442 - acc: 0.7774 - val_loss: 0.4180 - val_acc: 0.7983\n",
      "Epoch 4/300\n",
      " - 13s - loss: 0.3953 - acc: 0.8178 - val_loss: 0.3246 - val_acc: 0.8628\n",
      "Epoch 5/300\n",
      " - 13s - loss: 0.3078 - acc: 0.8694 - val_loss: 0.2656 - val_acc: 0.8894\n",
      "Epoch 6/300\n",
      " - 13s - loss: 0.2500 - acc: 0.9034 - val_loss: 0.1926 - val_acc: 0.9299\n",
      "Epoch 7/300\n",
      " - 13s - loss: 0.1827 - acc: 0.9334 - val_loss: 0.1558 - val_acc: 0.9437\n",
      "Epoch 8/300\n",
      " - 13s - loss: 0.1600 - acc: 0.9424 - val_loss: 0.1460 - val_acc: 0.9476\n",
      "Epoch 9/300\n",
      " - 13s - loss: 0.1507 - acc: 0.9460 - val_loss: 0.1396 - val_acc: 0.9500\n",
      "Epoch 10/300\n",
      " - 13s - loss: 0.1443 - acc: 0.9485 - val_loss: 0.1353 - val_acc: 0.9516\n",
      "Epoch 11/300\n",
      " - 13s - loss: 0.1393 - acc: 0.9503 - val_loss: 0.1312 - val_acc: 0.9532\n",
      "Epoch 12/300\n",
      " - 13s - loss: 0.1351 - acc: 0.9520 - val_loss: 0.1282 - val_acc: 0.9544\n",
      "Epoch 13/300\n",
      " - 13s - loss: 0.1314 - acc: 0.9533 - val_loss: 0.1254 - val_acc: 0.9554\n",
      "Epoch 14/300\n",
      " - 13s - loss: 0.1282 - acc: 0.9546 - val_loss: 0.1224 - val_acc: 0.9565\n",
      "Epoch 15/300\n",
      " - 13s - loss: 0.1249 - acc: 0.9558 - val_loss: 0.1197 - val_acc: 0.9575\n",
      "Epoch 16/300\n",
      " - 13s - loss: 0.1217 - acc: 0.9570 - val_loss: 0.1169 - val_acc: 0.9586\n",
      "Epoch 17/300\n",
      " - 13s - loss: 0.1185 - acc: 0.9582 - val_loss: 0.1143 - val_acc: 0.9595\n",
      "Epoch 18/300\n",
      " - 13s - loss: 0.1155 - acc: 0.9593 - val_loss: 0.1116 - val_acc: 0.9604\n",
      "Epoch 19/300\n",
      " - 13s - loss: 0.1125 - acc: 0.9604 - val_loss: 0.1098 - val_acc: 0.9611\n",
      "Epoch 20/300\n",
      " - 13s - loss: 0.1097 - acc: 0.9613 - val_loss: 0.1072 - val_acc: 0.9620\n",
      "Epoch 21/300\n",
      " - 13s - loss: 0.1072 - acc: 0.9623 - val_loss: 0.1058 - val_acc: 0.9625\n",
      "Epoch 22/300\n",
      " - 13s - loss: 0.1051 - acc: 0.9630 - val_loss: 0.1036 - val_acc: 0.9635\n",
      "Epoch 23/300\n",
      " - 13s - loss: 0.1027 - acc: 0.9638 - val_loss: 0.1014 - val_acc: 0.9643\n",
      "Epoch 24/300\n",
      " - 13s - loss: 0.1006 - acc: 0.9647 - val_loss: 0.0999 - val_acc: 0.9649\n",
      "Epoch 25/300\n",
      " - 13s - loss: 0.0986 - acc: 0.9654 - val_loss: 0.0982 - val_acc: 0.9654\n",
      "Epoch 26/300\n",
      " - 13s - loss: 0.0970 - acc: 0.9660 - val_loss: 0.0970 - val_acc: 0.9661\n",
      "Epoch 27/300\n",
      " - 13s - loss: 0.0949 - acc: 0.9668 - val_loss: 0.0956 - val_acc: 0.9666\n",
      "Epoch 28/300\n",
      " - 13s - loss: 0.0933 - acc: 0.9674 - val_loss: 0.0943 - val_acc: 0.9672\n",
      "Epoch 29/300\n",
      " - 13s - loss: 0.0915 - acc: 0.9680 - val_loss: 0.0929 - val_acc: 0.9675\n",
      "Epoch 30/300\n",
      " - 13s - loss: 0.0903 - acc: 0.9685 - val_loss: 0.0923 - val_acc: 0.9681\n",
      "Epoch 31/300\n",
      " - 13s - loss: 0.0885 - acc: 0.9691 - val_loss: 0.0911 - val_acc: 0.9685\n",
      "Epoch 32/300\n",
      " - 13s - loss: 0.0872 - acc: 0.9695 - val_loss: 0.0901 - val_acc: 0.9689\n",
      "Epoch 33/300\n",
      " - 13s - loss: 0.0857 - acc: 0.9701 - val_loss: 0.0886 - val_acc: 0.9693\n",
      "Epoch 34/300\n",
      " - 13s - loss: 0.0843 - acc: 0.9706 - val_loss: 0.0875 - val_acc: 0.9696\n",
      "Epoch 35/300\n",
      " - 13s - loss: 0.0833 - acc: 0.9710 - val_loss: 0.0870 - val_acc: 0.9701\n",
      "Epoch 36/300\n",
      " - 13s - loss: 0.0817 - acc: 0.9716 - val_loss: 0.0859 - val_acc: 0.9704\n",
      "Epoch 37/300\n",
      " - 13s - loss: 0.0803 - acc: 0.9721 - val_loss: 0.0853 - val_acc: 0.9707\n",
      "Epoch 38/300\n",
      " - 13s - loss: 0.0791 - acc: 0.9725 - val_loss: 0.0848 - val_acc: 0.9708\n",
      "Epoch 39/300\n",
      " - 13s - loss: 0.0779 - acc: 0.9729 - val_loss: 0.0837 - val_acc: 0.9714\n",
      "Epoch 40/300\n",
      " - 13s - loss: 0.0768 - acc: 0.9733 - val_loss: 0.0826 - val_acc: 0.9717\n",
      "Epoch 41/300\n",
      " - 13s - loss: 0.0756 - acc: 0.9738 - val_loss: 0.0824 - val_acc: 0.9719\n",
      "Epoch 42/300\n",
      " - 13s - loss: 0.0747 - acc: 0.9741 - val_loss: 0.0809 - val_acc: 0.9722\n",
      "Epoch 43/300\n",
      " - 13s - loss: 0.0736 - acc: 0.9745 - val_loss: 0.0818 - val_acc: 0.9721\n",
      "Epoch 44/300\n",
      " - 13s - loss: 0.0725 - acc: 0.9749 - val_loss: 0.0799 - val_acc: 0.9727\n",
      "Epoch 45/300\n",
      " - 13s - loss: 0.0715 - acc: 0.9752 - val_loss: 0.0792 - val_acc: 0.9729\n",
      "Epoch 46/300\n",
      " - 13s - loss: 0.0704 - acc: 0.9756 - val_loss: 0.0787 - val_acc: 0.9732\n",
      "Epoch 47/300\n",
      " - 13s - loss: 0.0696 - acc: 0.9758 - val_loss: 0.0781 - val_acc: 0.9734\n",
      "Epoch 48/300\n",
      " - 13s - loss: 0.0685 - acc: 0.9763 - val_loss: 0.0779 - val_acc: 0.9736\n",
      "Epoch 49/300\n",
      " - 13s - loss: 0.0675 - acc: 0.9766 - val_loss: 0.0774 - val_acc: 0.9737\n",
      "Epoch 50/300\n",
      " - 13s - loss: 0.0669 - acc: 0.9768 - val_loss: 0.0774 - val_acc: 0.9738\n",
      "Epoch 51/300\n",
      " - 13s - loss: 0.0659 - acc: 0.9772 - val_loss: 0.0762 - val_acc: 0.9741\n",
      "Epoch 52/300\n",
      " - 13s - loss: 0.0651 - acc: 0.9775 - val_loss: 0.0757 - val_acc: 0.9743\n",
      "Epoch 53/300\n",
      " - 13s - loss: 0.0642 - acc: 0.9778 - val_loss: 0.0760 - val_acc: 0.9744\n",
      "Epoch 54/300\n",
      " - 13s - loss: 0.0636 - acc: 0.9780 - val_loss: 0.0748 - val_acc: 0.9747\n",
      "Epoch 55/300\n",
      " - 13s - loss: 0.0628 - acc: 0.9783 - val_loss: 0.0747 - val_acc: 0.9748\n",
      "Epoch 56/300\n",
      " - 13s - loss: 0.0620 - acc: 0.9786 - val_loss: 0.0746 - val_acc: 0.9750\n",
      "Epoch 57/300\n",
      " - 13s - loss: 0.0610 - acc: 0.9789 - val_loss: 0.0745 - val_acc: 0.9751\n",
      "Epoch 58/300\n",
      " - 13s - loss: 0.0605 - acc: 0.9791 - val_loss: 0.0746 - val_acc: 0.9752\n",
      "Epoch 59/300\n",
      " - 13s - loss: 0.0597 - acc: 0.9793 - val_loss: 0.0731 - val_acc: 0.9755\n",
      "Epoch 60/300\n",
      " - 13s - loss: 0.0589 - acc: 0.9797 - val_loss: 0.0738 - val_acc: 0.9753\n",
      "Epoch 61/300\n",
      " - 13s - loss: 0.0583 - acc: 0.9799 - val_loss: 0.0729 - val_acc: 0.9757\n",
      "Epoch 62/300\n",
      " - 13s - loss: 0.0577 - acc: 0.9801 - val_loss: 0.0727 - val_acc: 0.9760\n",
      "Epoch 63/300\n",
      " - 13s - loss: 0.0570 - acc: 0.9803 - val_loss: 0.0727 - val_acc: 0.9759\n",
      "Epoch 64/300\n",
      " - 13s - loss: 0.0563 - acc: 0.9806 - val_loss: 0.0723 - val_acc: 0.9760\n",
      "Epoch 65/300\n",
      " - 13s - loss: 0.0557 - acc: 0.9808 - val_loss: 0.0727 - val_acc: 0.9762\n",
      "Epoch 66/300\n",
      " - 13s - loss: 0.0551 - acc: 0.9810 - val_loss: 0.0719 - val_acc: 0.9764\n",
      "Epoch 67/300\n",
      " - 13s - loss: 0.0547 - acc: 0.9811 - val_loss: 0.0712 - val_acc: 0.9765\n",
      "Epoch 68/300\n",
      " - 13s - loss: 0.0540 - acc: 0.9814 - val_loss: 0.0709 - val_acc: 0.9767\n",
      "Epoch 69/300\n",
      " - 9s - loss: 0.0533 - acc: 0.9816 - val_loss: 0.0705 - val_acc: 0.9767\n",
      "Epoch 70/300\n",
      " - 7s - loss: 0.0528 - acc: 0.9818 - val_loss: 0.0706 - val_acc: 0.9768\n",
      "Epoch 71/300\n",
      " - 8s - loss: 0.0521 - acc: 0.9820 - val_loss: 0.0704 - val_acc: 0.9770\n",
      "Epoch 72/300\n",
      " - 7s - loss: 0.0516 - acc: 0.9822 - val_loss: 0.0703 - val_acc: 0.9770\n",
      "Epoch 73/300\n",
      " - 7s - loss: 0.0514 - acc: 0.9823 - val_loss: 0.0701 - val_acc: 0.9772\n",
      "Epoch 74/300\n",
      " - 7s - loss: 0.0507 - acc: 0.9825 - val_loss: 0.0698 - val_acc: 0.9774\n",
      "Epoch 75/300\n",
      " - 7s - loss: 0.0502 - acc: 0.9827 - val_loss: 0.0710 - val_acc: 0.9772\n",
      "Epoch 76/300\n",
      " - 7s - loss: 0.0499 - acc: 0.9828 - val_loss: 0.0702 - val_acc: 0.9775\n",
      "Epoch 77/300\n",
      " - 7s - loss: 0.0493 - acc: 0.9830 - val_loss: 0.0696 - val_acc: 0.9774\n",
      "Epoch 78/300\n",
      " - 7s - loss: 0.0487 - acc: 0.9832 - val_loss: 0.0696 - val_acc: 0.9776\n",
      "Epoch 79/300\n",
      " - 7s - loss: 0.0481 - acc: 0.9835 - val_loss: 0.0692 - val_acc: 0.9777\n",
      "Epoch 80/300\n",
      " - 7s - loss: 0.0476 - acc: 0.9836 - val_loss: 0.0701 - val_acc: 0.9778\n",
      "Epoch 81/300\n",
      " - 7s - loss: 0.0472 - acc: 0.9838 - val_loss: 0.0691 - val_acc: 0.9779\n",
      "Epoch 82/300\n",
      " - 7s - loss: 0.0467 - acc: 0.9839 - val_loss: 0.0695 - val_acc: 0.9779\n",
      "Epoch 83/300\n",
      " - 7s - loss: 0.0461 - acc: 0.9842 - val_loss: 0.0695 - val_acc: 0.9781\n",
      "Epoch 84/300\n",
      " - 7s - loss: 0.0457 - acc: 0.9843 - val_loss: 0.0690 - val_acc: 0.9779\n",
      "Epoch 85/300\n",
      " - 7s - loss: 0.0453 - acc: 0.9844 - val_loss: 0.0690 - val_acc: 0.9781\n",
      "Epoch 86/300\n",
      " - 7s - loss: 0.0449 - acc: 0.9845 - val_loss: 0.0689 - val_acc: 0.9783\n",
      "Epoch 87/300\n",
      " - 7s - loss: 0.0447 - acc: 0.9846 - val_loss: 0.0687 - val_acc: 0.9782\n",
      "Epoch 88/300\n",
      " - 7s - loss: 0.0441 - acc: 0.9848 - val_loss: 0.0693 - val_acc: 0.9783\n",
      "Epoch 89/300\n",
      " - 7s - loss: 0.0436 - acc: 0.9850 - val_loss: 0.0701 - val_acc: 0.9783\n",
      "Epoch 90/300\n",
      " - 7s - loss: 0.0433 - acc: 0.9851 - val_loss: 0.0694 - val_acc: 0.9784\n",
      "Epoch 91/300\n",
      " - 7s - loss: 0.0428 - acc: 0.9853 - val_loss: 0.0693 - val_acc: 0.9784\n",
      "Epoch 92/300\n",
      " - 7s - loss: 0.0423 - acc: 0.9855 - val_loss: 0.0686 - val_acc: 0.9786\n",
      "Epoch 93/300\n",
      " - 7s - loss: 0.0419 - acc: 0.9856 - val_loss: 0.0688 - val_acc: 0.9785\n",
      "Epoch 94/300\n",
      " - 7s - loss: 0.0417 - acc: 0.9857 - val_loss: 0.0682 - val_acc: 0.9786\n",
      "Epoch 95/300\n",
      " - 7s - loss: 0.0414 - acc: 0.9858 - val_loss: 0.0705 - val_acc: 0.9782\n",
      "Epoch 96/300\n"
     ]
    },
    {
     "name": "stdout",
     "output_type": "stream",
     "text": [
      " - 7s - loss: 0.0412 - acc: 0.9859 - val_loss: 0.0690 - val_acc: 0.9789\n",
      "Epoch 97/300\n",
      " - 7s - loss: 0.0405 - acc: 0.9861 - val_loss: 0.0688 - val_acc: 0.9788\n",
      "Epoch 98/300\n",
      " - 7s - loss: 0.0400 - acc: 0.9863 - val_loss: 0.0685 - val_acc: 0.9790\n",
      "Epoch 99/300\n",
      " - 7s - loss: 0.0400 - acc: 0.9862 - val_loss: 0.0680 - val_acc: 0.9792\n",
      "Epoch 100/300\n",
      " - 7s - loss: 0.0395 - acc: 0.9865 - val_loss: 0.0692 - val_acc: 0.9790\n",
      "Epoch 101/300\n",
      " - 7s - loss: 0.0389 - acc: 0.9867 - val_loss: 0.0690 - val_acc: 0.9792\n",
      "Epoch 102/300\n",
      " - 7s - loss: 0.0388 - acc: 0.9867 - val_loss: 0.0686 - val_acc: 0.9792\n",
      "Epoch 103/300\n",
      " - 7s - loss: 0.0383 - acc: 0.9869 - val_loss: 0.0681 - val_acc: 0.9793\n",
      "Epoch 104/300\n",
      " - 7s - loss: 0.0378 - acc: 0.9871 - val_loss: 0.0692 - val_acc: 0.9792\n",
      "Epoch 105/300\n",
      " - 7s - loss: 0.0378 - acc: 0.9870 - val_loss: 0.0687 - val_acc: 0.9790\n",
      "Epoch 106/300\n",
      " - 7s - loss: 0.0377 - acc: 0.9871 - val_loss: 0.0689 - val_acc: 0.9796\n",
      "Epoch 107/300\n",
      " - 7s - loss: 0.0370 - acc: 0.9873 - val_loss: 0.0690 - val_acc: 0.9794\n",
      "Epoch 108/300\n",
      " - 7s - loss: 0.0367 - acc: 0.9874 - val_loss: 0.0685 - val_acc: 0.9795\n",
      "Epoch 109/300\n",
      " - 7s - loss: 0.0363 - acc: 0.9876 - val_loss: 0.0690 - val_acc: 0.9794\n",
      "Epoch 00109: early stopping\n"
     ]
    }
   ],
   "source": [
    "# 设置early stopping\n",
    "early_stopping = EarlyStopping(monitor='val_loss',\n",
    "                               min_delta=et_min_delta, \n",
    "                               patience=et_patience, \n",
    "                               verbose=1,\n",
    "                               mode='auto')\n",
    "history = network.fit(train_x, train_y, \n",
    "                    validation_data=(develop_x,develop_y),\n",
    "                    batch_size=batch_size, \n",
    "                    epochs=epochs,\n",
    "                    callbacks=[early_stopping],\n",
    "                    verbose=2)"
   ]
  },
  {
   "cell_type": "markdown",
   "metadata": {},
   "source": [
    "## 五、预测"
   ]
  },
  {
   "cell_type": "markdown",
   "metadata": {
    "heading_collapsed": true
   },
   "source": [
    "#### 5.1 求出测试集的发射概率矩阵"
   ]
  },
  {
   "cell_type": "code",
   "execution_count": 14,
   "metadata": {
    "hidden": true
   },
   "outputs": [
    {
     "name": "stdout",
     "output_type": "stream",
     "text": [
      "Test score: 0.15993574012\n",
      "Test accuracy: 0.970316120911\n"
     ]
    }
   ],
   "source": [
    "# 这里的测试集是有填充的，后面可以把填充的去掉试一试\n",
    "score, acc = network.evaluate(test_x, test_y,\n",
    "                            batch_size=batch_size,verbose=2)\n",
    "\n",
    "print('Test score:',score)\n",
    "print('Test accuracy:',acc)"
   ]
  },
  {
   "cell_type": "code",
   "execution_count": 15,
   "metadata": {
    "hidden": true
   },
   "outputs": [],
   "source": [
    "b = network.predict(test_x)   # 发射概率\n",
    "b = np.log(b)\n",
    "B = []\n",
    "# 按真实句子的长度截断\n",
    "for i,sens in enumerate(b):\n",
    "    B.append(sens[:len_test[i]])\n",
    "del b\n",
    "# 这下面的代码是错的，并不能简单地取最大概率的那个标签，因为可能造成不合理的现象。\n",
    "#with sess.as_default():\n",
    "#    acc = tf.argmax(test_y,2)\n",
    "#    pre = tf.argmax(pre,2)\n",
    "#    acc = acc.eval()\n",
    "#    pre = pre.eval()"
   ]
  },
  {
   "cell_type": "markdown",
   "metadata": {
    "heading_collapsed": true
   },
   "source": [
    "#### 5.2 维特比算法解码，得到合理化的标签序列 "
   ]
  },
  {
   "cell_type": "code",
   "execution_count": 16,
   "metadata": {
    "hidden": true
   },
   "outputs": [],
   "source": [
    "pre_y = cws_pre_batch(B) # 通过维特比算法求出合理的标签"
   ]
  },
  {
   "cell_type": "markdown",
   "metadata": {
    "heading_collapsed": true
   },
   "source": [
    "#### 5.3 重构分词后的句子"
   ]
  },
  {
   "cell_type": "code",
   "execution_count": 17,
   "metadata": {
    "hidden": true
   },
   "outputs": [],
   "source": [
    "pre_reorganization = data_label_to_word(test_x_origin,pre_y,0)"
   ]
  },
  {
   "cell_type": "markdown",
   "metadata": {},
   "source": [
    "#### 5.4 计算测试集的准确率、召回率、F1值"
   ]
  },
  {
   "cell_type": "code",
   "execution_count": 18,
   "metadata": {},
   "outputs": [
    {
     "name": "stdout",
     "output_type": "stream",
     "text": [
      "0.9019905619031117 0.9033993466721111 0.9005861640852381\n"
     ]
    }
   ],
   "source": [
    "# 计算评估指标\n",
    "F,P,R = calculate_evaluation_batch(test_reorganization,pre_reorganization)\n",
    "print(F,P,R)"
   ]
  },
  {
   "cell_type": "markdown",
   "metadata": {},
   "source": [
    "#### 5.5 保存实验结果"
   ]
  },
  {
   "cell_type": "code",
   "execution_count": 19,
   "metadata": {},
   "outputs": [],
   "source": [
    "# x = np.arange(20)\n",
    "# y = x**2\n",
    "# plt.plot(x,y)\n",
    "# plt.savefig('u.png')\n",
    "plot_model(network, to_file=special+'.png')"
   ]
  }
 ],
 "metadata": {
  "kernelspec": {
   "display_name": "Python 3",
   "language": "python",
   "name": "python3"
  },
  "language_info": {
   "codemirror_mode": {
    "name": "ipython",
    "version": 3
   },
   "file_extension": ".py",
   "mimetype": "text/x-python",
   "name": "python",
   "nbconvert_exporter": "python",
   "pygments_lexer": "ipython3",
   "version": "3.5.2"
  }
 },
 "nbformat": 4,
 "nbformat_minor": 2
}
